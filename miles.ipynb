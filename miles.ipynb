{
 "cells": [
  {
   "cell_type": "code",
   "execution_count": 13,
   "metadata": {},
   "outputs": [
    {
     "name": "stdout",
     "output_type": "stream",
     "text": [
      "iris shape (150, 4)\n",
      "wine shape (178, 13)\n",
      "bcancer shape (569, 30)\n"
     ]
    }
   ],
   "source": [
    "#preload some datasets\n",
    "\n",
    "import sklearn.datasets as datasets\n",
    "import numpy as np\n",
    "\n",
    "# Want a variety of datasets such that:\n",
    "## Num of features are varied but datapoints are similar (to measure speed vs feature size)\n",
    "## Num of datapoints are varied but features are similar (to measure speed vs dataset size)\n",
    "\n",
    "## DATASET 1: IRIS FROM SKLEARN\n",
    "# imported as dictionary {'data':, 'target':, 'target_names':}\n",
    "iris_dataset = datasets.load_iris()\n",
    "iris_data = np.array(iris_dataset['data'])\n",
    "iris_target = np.array(iris_dataset['target'])\n",
    "\n",
    "## DATASET 2: WINE FROM SKLEARN\n",
    "wine_dataset = datasets.load_wine()\n",
    "wine_data = np.array(wine_dataset['data'])\n",
    "wine_target = np.array(wine_dataset['target'])\n",
    "\n",
    "## DATASET 3: BREAST CANCER FROM SKLEARN\n",
    "bcancer_dataset = datasets.load_breast_cancer()\n",
    "bcancer_data = np.array(bcancer_dataset['data'])\n",
    "bcancer_target = np.array(bcancer_dataset['target'])\n",
    "\n",
    "\n",
    "print(\"iris shape\", iris_data.shape)\n",
    "print(\"wine shape\", wine_data.shape)\n",
    "print(\"bcancer shape\", bcancer_data.shape)\n"
   ]
  },
  {
   "cell_type": "code",
   "execution_count": null,
   "metadata": {},
   "outputs": [],
   "source": [
    "# Implementing K-Means\n",
    "from sklearn.cluster import Kmeans\n",
    "import time\n",
    "\n",
    "def K_Means(n_clusters, features, target, ):\n",
    "    \n",
    "    \n",
    "    \n",
    "    \n",
    "    return "
   ]
  }
 ],
 "metadata": {
  "kernelspec": {
   "display_name": "Python 3",
   "language": "python",
   "name": "python3"
  },
  "language_info": {
   "codemirror_mode": {
    "name": "ipython",
    "version": 3
   },
   "file_extension": ".py",
   "mimetype": "text/x-python",
   "name": "python",
   "nbconvert_exporter": "python",
   "pygments_lexer": "ipython3",
   "version": "3.7.3"
  }
 },
 "nbformat": 4,
 "nbformat_minor": 2
}
